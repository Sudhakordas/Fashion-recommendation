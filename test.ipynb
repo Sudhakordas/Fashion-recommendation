{
 "cells": [
  {
   "cell_type": "code",
   "execution_count": 2,
   "id": "c0a24d44",
   "metadata": {},
   "outputs": [],
   "source": [
    "import os\n",
    "import cv2\n",
    "import numpy as np\n",
    "from tqdm import tqdm\n",
    "import tensorflow as tf\n",
    "from tensorflow import keras\n",
    "from tensorflow.keras.preprocessing import image\n",
    "from tensorflow.keras.layers import GlobalMaxPooling2D\n",
    "from tensorflow.keras.applications.resnet50 import ResNet50, preprocess_input\n",
    "from sklearn.neighbors import NearestNeighbors\n"
   ]
  },
  {
   "cell_type": "code",
   "execution_count": null,
   "id": "fd094c9c",
   "metadata": {},
   "outputs": [],
   "source": [
    "#Getting the model\n",
    "\n",
    "model = ResNet50(weights = 'imagenet', include_top = False, input_shape = (224, 224, 3))\n",
    "model.trainable = False\n",
    "\n",
    "model = tensorflow.keras.Sequentil([\n",
    "    model,\n",
    "    GlobalMaxPooling2D()\n",
    "])"
   ]
  },
  {
   "cell_type": "code",
   "execution_count": null,
   "id": "abda73a2",
   "metadata": {},
   "outputs": [],
   "source": [
    "#processing the image\n",
    "\n",
    "image_path = ''\n",
    "img = image.load_img(iamge_path, target_size = (224,224))\n",
    "img_array = image.img_array(img)\n",
    "expanded_image = np.expand_dims(img_array, axis = 0)\n",
    "preprocessed_image = preprocess_input(expanded_image)\n",
    "result = model.predict(preprocessed_image).flatten()\n",
    "normalised_image =result / norm(result)\n"
   ]
  },
  {
   "cell_type": "code",
   "execution_count": null,
   "id": "3f22d469",
   "metadata": {},
   "outputs": [],
   "source": [
    "#importing the pickle file\n",
    "\n",
    "import pickle\n",
    "features_list = pickle.load(open('features_list.pkl', 'rb'))\n",
    "file_names = pickle.load(open('file_names.pkl', 'rb'))"
   ]
  },
  {
   "cell_type": "code",
   "execution_count": null,
   "id": "74dc2338",
   "metadata": {},
   "outputs": [],
   "source": [
    "#Loding the features into the algorithm\n",
    "\n",
    "Neighbors =NearestNeighbors(5, algorithm = 'brute', metric = 'euclidean')\n",
    "Neighbors.fit(features_list)\n",
    "\n",
    "distance, indices = Neighbors.kneighbors([normalised_image])"
   ]
  },
  {
   "cell_type": "code",
   "execution_count": null,
   "id": "e5485786",
   "metadata": {},
   "outputs": [],
   "source": [
    "for ind in indices[0]:\n",
    "    print(file_names[find])\n",
    "    temp_img = cv2.imread(file_names[find])\n",
    "    cv2.imshow('output', cv2.resize(temp_img, (512,512)))\n",
    "    cv2.waikey(0)\n",
    "    \n",
    "    "
   ]
  }
 ],
 "metadata": {
  "kernelspec": {
   "display_name": "Python 3",
   "language": "python",
   "name": "python3"
  },
  "language_info": {
   "codemirror_mode": {
    "name": "ipython",
    "version": 3
   },
   "file_extension": ".py",
   "mimetype": "text/x-python",
   "name": "python",
   "nbconvert_exporter": "python",
   "pygments_lexer": "ipython3",
   "version": "3.6.12"
  }
 },
 "nbformat": 4,
 "nbformat_minor": 5
}
