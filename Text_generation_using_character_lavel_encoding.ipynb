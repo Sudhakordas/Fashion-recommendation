{
  "nbformat": 4,
  "nbformat_minor": 0,
  "metadata": {
    "colab": {
      "name": "Text-generation_using character lavel encoding.ipynb",
      "provenance": []
    },
    "kernelspec": {
      "name": "python3",
      "display_name": "Python 3"
    },
    "language_info": {
      "name": "python"
    },
    "widgets": {
      "application/vnd.jupyter.widget-state+json": {
        "891f5422f1f9426fb6ead60db55de9e5": {
          "model_module": "@jupyter-widgets/controls",
          "model_name": "HBoxModel",
          "model_module_version": "1.5.0",
          "state": {
            "_dom_classes": [],
            "_model_module": "@jupyter-widgets/controls",
            "_model_module_version": "1.5.0",
            "_model_name": "HBoxModel",
            "_view_count": null,
            "_view_module": "@jupyter-widgets/controls",
            "_view_module_version": "1.5.0",
            "_view_name": "HBoxView",
            "box_style": "",
            "children": [
              "IPY_MODEL_372f36c7f43d4a78928277ad78ea5577",
              "IPY_MODEL_aab82c3585df4eb3b6b0899fa88a381c",
              "IPY_MODEL_5f5cd8a4600f4652b38d0284b8fc6084"
            ],
            "layout": "IPY_MODEL_1aafc9e6e1d647edb02e56f82b55cb53"
          }
        },
        "372f36c7f43d4a78928277ad78ea5577": {
          "model_module": "@jupyter-widgets/controls",
          "model_name": "HTMLModel",
          "model_module_version": "1.5.0",
          "state": {
            "_dom_classes": [],
            "_model_module": "@jupyter-widgets/controls",
            "_model_module_version": "1.5.0",
            "_model_name": "HTMLModel",
            "_view_count": null,
            "_view_module": "@jupyter-widgets/controls",
            "_view_module_version": "1.5.0",
            "_view_name": "HTMLView",
            "description": "",
            "description_tooltip": null,
            "layout": "IPY_MODEL_a5fd0c40077343b8a6b7baea49df50f1",
            "placeholder": "​",
            "style": "IPY_MODEL_52c99a53d7764019b972ce217e9c91b0",
            "value": "100%"
          }
        },
        "aab82c3585df4eb3b6b0899fa88a381c": {
          "model_module": "@jupyter-widgets/controls",
          "model_name": "FloatProgressModel",
          "model_module_version": "1.5.0",
          "state": {
            "_dom_classes": [],
            "_model_module": "@jupyter-widgets/controls",
            "_model_module_version": "1.5.0",
            "_model_name": "FloatProgressModel",
            "_view_count": null,
            "_view_module": "@jupyter-widgets/controls",
            "_view_module_version": "1.5.0",
            "_view_name": "ProgressView",
            "bar_style": "success",
            "description": "",
            "description_tooltip": null,
            "layout": "IPY_MODEL_eabaa5a234f04a189a22205167ec7bfd",
            "max": 1,
            "min": 0,
            "orientation": "horizontal",
            "style": "IPY_MODEL_14f0362e8be241a1a642ab945dc2aec0",
            "value": 1
          }
        },
        "5f5cd8a4600f4652b38d0284b8fc6084": {
          "model_module": "@jupyter-widgets/controls",
          "model_name": "HTMLModel",
          "model_module_version": "1.5.0",
          "state": {
            "_dom_classes": [],
            "_model_module": "@jupyter-widgets/controls",
            "_model_module_version": "1.5.0",
            "_model_name": "HTMLModel",
            "_view_count": null,
            "_view_module": "@jupyter-widgets/controls",
            "_view_module_version": "1.5.0",
            "_view_name": "HTMLView",
            "description": "",
            "description_tooltip": null,
            "layout": "IPY_MODEL_bfedb2d186a4446280639a61c4a929ec",
            "placeholder": "​",
            "style": "IPY_MODEL_67610803bc1c4e10a4f30ca69996d3fd",
            "value": " 1/1 [00:02&lt;00:00,  2.54s/it]"
          }
        },
        "1aafc9e6e1d647edb02e56f82b55cb53": {
          "model_module": "@jupyter-widgets/base",
          "model_name": "LayoutModel",
          "model_module_version": "1.2.0",
          "state": {
            "_model_module": "@jupyter-widgets/base",
            "_model_module_version": "1.2.0",
            "_model_name": "LayoutModel",
            "_view_count": null,
            "_view_module": "@jupyter-widgets/base",
            "_view_module_version": "1.2.0",
            "_view_name": "LayoutView",
            "align_content": null,
            "align_items": null,
            "align_self": null,
            "border": null,
            "bottom": null,
            "display": "inline-flex",
            "flex": null,
            "flex_flow": "row wrap",
            "grid_area": null,
            "grid_auto_columns": null,
            "grid_auto_flow": null,
            "grid_auto_rows": null,
            "grid_column": null,
            "grid_gap": null,
            "grid_row": null,
            "grid_template_areas": null,
            "grid_template_columns": null,
            "grid_template_rows": null,
            "height": null,
            "justify_content": null,
            "justify_items": null,
            "left": null,
            "margin": null,
            "max_height": null,
            "max_width": null,
            "min_height": null,
            "min_width": null,
            "object_fit": null,
            "object_position": null,
            "order": null,
            "overflow": null,
            "overflow_x": null,
            "overflow_y": null,
            "padding": null,
            "right": null,
            "top": null,
            "visibility": null,
            "width": "100%"
          }
        },
        "a5fd0c40077343b8a6b7baea49df50f1": {
          "model_module": "@jupyter-widgets/base",
          "model_name": "LayoutModel",
          "model_module_version": "1.2.0",
          "state": {
            "_model_module": "@jupyter-widgets/base",
            "_model_module_version": "1.2.0",
            "_model_name": "LayoutModel",
            "_view_count": null,
            "_view_module": "@jupyter-widgets/base",
            "_view_module_version": "1.2.0",
            "_view_name": "LayoutView",
            "align_content": null,
            "align_items": null,
            "align_self": null,
            "border": null,
            "bottom": null,
            "display": null,
            "flex": null,
            "flex_flow": null,
            "grid_area": null,
            "grid_auto_columns": null,
            "grid_auto_flow": null,
            "grid_auto_rows": null,
            "grid_column": null,
            "grid_gap": null,
            "grid_row": null,
            "grid_template_areas": null,
            "grid_template_columns": null,
            "grid_template_rows": null,
            "height": null,
            "justify_content": null,
            "justify_items": null,
            "left": null,
            "margin": null,
            "max_height": null,
            "max_width": null,
            "min_height": null,
            "min_width": null,
            "object_fit": null,
            "object_position": null,
            "order": null,
            "overflow": null,
            "overflow_x": null,
            "overflow_y": null,
            "padding": null,
            "right": null,
            "top": null,
            "visibility": null,
            "width": null
          }
        },
        "52c99a53d7764019b972ce217e9c91b0": {
          "model_module": "@jupyter-widgets/controls",
          "model_name": "DescriptionStyleModel",
          "model_module_version": "1.5.0",
          "state": {
            "_model_module": "@jupyter-widgets/controls",
            "_model_module_version": "1.5.0",
            "_model_name": "DescriptionStyleModel",
            "_view_count": null,
            "_view_module": "@jupyter-widgets/base",
            "_view_module_version": "1.2.0",
            "_view_name": "StyleView",
            "description_width": ""
          }
        },
        "eabaa5a234f04a189a22205167ec7bfd": {
          "model_module": "@jupyter-widgets/base",
          "model_name": "LayoutModel",
          "model_module_version": "1.2.0",
          "state": {
            "_model_module": "@jupyter-widgets/base",
            "_model_module_version": "1.2.0",
            "_model_name": "LayoutModel",
            "_view_count": null,
            "_view_module": "@jupyter-widgets/base",
            "_view_module_version": "1.2.0",
            "_view_name": "LayoutView",
            "align_content": null,
            "align_items": null,
            "align_self": null,
            "border": null,
            "bottom": null,
            "display": null,
            "flex": "2",
            "flex_flow": null,
            "grid_area": null,
            "grid_auto_columns": null,
            "grid_auto_flow": null,
            "grid_auto_rows": null,
            "grid_column": null,
            "grid_gap": null,
            "grid_row": null,
            "grid_template_areas": null,
            "grid_template_columns": null,
            "grid_template_rows": null,
            "height": null,
            "justify_content": null,
            "justify_items": null,
            "left": null,
            "margin": null,
            "max_height": null,
            "max_width": null,
            "min_height": null,
            "min_width": null,
            "object_fit": null,
            "object_position": null,
            "order": null,
            "overflow": null,
            "overflow_x": null,
            "overflow_y": null,
            "padding": null,
            "right": null,
            "top": null,
            "visibility": null,
            "width": null
          }
        },
        "14f0362e8be241a1a642ab945dc2aec0": {
          "model_module": "@jupyter-widgets/controls",
          "model_name": "ProgressStyleModel",
          "model_module_version": "1.5.0",
          "state": {
            "_model_module": "@jupyter-widgets/controls",
            "_model_module_version": "1.5.0",
            "_model_name": "ProgressStyleModel",
            "_view_count": null,
            "_view_module": "@jupyter-widgets/base",
            "_view_module_version": "1.2.0",
            "_view_name": "StyleView",
            "bar_color": null,
            "description_width": ""
          }
        },
        "bfedb2d186a4446280639a61c4a929ec": {
          "model_module": "@jupyter-widgets/base",
          "model_name": "LayoutModel",
          "model_module_version": "1.2.0",
          "state": {
            "_model_module": "@jupyter-widgets/base",
            "_model_module_version": "1.2.0",
            "_model_name": "LayoutModel",
            "_view_count": null,
            "_view_module": "@jupyter-widgets/base",
            "_view_module_version": "1.2.0",
            "_view_name": "LayoutView",
            "align_content": null,
            "align_items": null,
            "align_self": null,
            "border": null,
            "bottom": null,
            "display": null,
            "flex": null,
            "flex_flow": null,
            "grid_area": null,
            "grid_auto_columns": null,
            "grid_auto_flow": null,
            "grid_auto_rows": null,
            "grid_column": null,
            "grid_gap": null,
            "grid_row": null,
            "grid_template_areas": null,
            "grid_template_columns": null,
            "grid_template_rows": null,
            "height": null,
            "justify_content": null,
            "justify_items": null,
            "left": null,
            "margin": null,
            "max_height": null,
            "max_width": null,
            "min_height": null,
            "min_width": null,
            "object_fit": null,
            "object_position": null,
            "order": null,
            "overflow": null,
            "overflow_x": null,
            "overflow_y": null,
            "padding": null,
            "right": null,
            "top": null,
            "visibility": null,
            "width": null
          }
        },
        "67610803bc1c4e10a4f30ca69996d3fd": {
          "model_module": "@jupyter-widgets/controls",
          "model_name": "DescriptionStyleModel",
          "model_module_version": "1.5.0",
          "state": {
            "_model_module": "@jupyter-widgets/controls",
            "_model_module_version": "1.5.0",
            "_model_name": "DescriptionStyleModel",
            "_view_count": null,
            "_view_module": "@jupyter-widgets/base",
            "_view_module_version": "1.2.0",
            "_view_name": "StyleView",
            "description_width": ""
          }
        },
        "2dc5db53631c46c3a6747cfcd82bf7c1": {
          "model_module": "@jupyter-widgets/controls",
          "model_name": "HBoxModel",
          "model_module_version": "1.5.0",
          "state": {
            "_dom_classes": [],
            "_model_module": "@jupyter-widgets/controls",
            "_model_module_version": "1.5.0",
            "_model_name": "HBoxModel",
            "_view_count": null,
            "_view_module": "@jupyter-widgets/controls",
            "_view_module_version": "1.5.0",
            "_view_name": "HBoxView",
            "box_style": "",
            "children": [
              "IPY_MODEL_bda37215774d40f9aaabf5e617c4bb97",
              "IPY_MODEL_f18298e0592e4c85b2adca0c4052e678",
              "IPY_MODEL_fc97c867313043c8b9114f439b39d359"
            ],
            "layout": "IPY_MODEL_a077e0dac53a4d149f078095da76f594"
          }
        },
        "bda37215774d40f9aaabf5e617c4bb97": {
          "model_module": "@jupyter-widgets/controls",
          "model_name": "HTMLModel",
          "model_module_version": "1.5.0",
          "state": {
            "_dom_classes": [],
            "_model_module": "@jupyter-widgets/controls",
            "_model_module_version": "1.5.0",
            "_model_name": "HTMLModel",
            "_view_count": null,
            "_view_module": "@jupyter-widgets/controls",
            "_view_module_version": "1.5.0",
            "_view_name": "HTMLView",
            "description": "",
            "description_tooltip": null,
            "layout": "IPY_MODEL_9c9d07ad91c24b7a8fd8494e984a1099",
            "placeholder": "​",
            "style": "IPY_MODEL_0d934a44a4d44e859823732c921fda2d",
            "value": "Loss: 3.520 — Avg: 3.524 — GPU Mem: 1076 MB: 100%"
          }
        },
        "f18298e0592e4c85b2adca0c4052e678": {
          "model_module": "@jupyter-widgets/controls",
          "model_name": "FloatProgressModel",
          "model_module_version": "1.5.0",
          "state": {
            "_dom_classes": [],
            "_model_module": "@jupyter-widgets/controls",
            "_model_module_version": "1.5.0",
            "_model_name": "FloatProgressModel",
            "_view_count": null,
            "_view_module": "@jupyter-widgets/controls",
            "_view_module_version": "1.5.0",
            "_view_name": "ProgressView",
            "bar_style": "success",
            "description": "",
            "description_tooltip": null,
            "layout": "IPY_MODEL_09dea7b6822548389f46b93311674ef5",
            "max": 25000,
            "min": 0,
            "orientation": "horizontal",
            "style": "IPY_MODEL_8a68b473501b4d7691d55ccb323c5846",
            "value": 25000
          }
        },
        "fc97c867313043c8b9114f439b39d359": {
          "model_module": "@jupyter-widgets/controls",
          "model_name": "HTMLModel",
          "model_module_version": "1.5.0",
          "state": {
            "_dom_classes": [],
            "_model_module": "@jupyter-widgets/controls",
            "_model_module_version": "1.5.0",
            "_model_name": "HTMLModel",
            "_view_count": null,
            "_view_module": "@jupyter-widgets/controls",
            "_view_module_version": "1.5.0",
            "_view_name": "HTMLView",
            "description": "",
            "description_tooltip": null,
            "layout": "IPY_MODEL_4ea0872b10d34d318179306072d09e94",
            "placeholder": "​",
            "style": "IPY_MODEL_47a1397a70de4146b9a2534642282c6c",
            "value": " 25000/25000 [10:30&lt;00:00, 39.68it/s]"
          }
        },
        "a077e0dac53a4d149f078095da76f594": {
          "model_module": "@jupyter-widgets/base",
          "model_name": "LayoutModel",
          "model_module_version": "1.2.0",
          "state": {
            "_model_module": "@jupyter-widgets/base",
            "_model_module_version": "1.2.0",
            "_model_name": "LayoutModel",
            "_view_count": null,
            "_view_module": "@jupyter-widgets/base",
            "_view_module_version": "1.2.0",
            "_view_name": "LayoutView",
            "align_content": null,
            "align_items": null,
            "align_self": null,
            "border": null,
            "bottom": null,
            "display": "inline-flex",
            "flex": null,
            "flex_flow": "row wrap",
            "grid_area": null,
            "grid_auto_columns": null,
            "grid_auto_flow": null,
            "grid_auto_rows": null,
            "grid_column": null,
            "grid_gap": null,
            "grid_row": null,
            "grid_template_areas": null,
            "grid_template_columns": null,
            "grid_template_rows": null,
            "height": null,
            "justify_content": null,
            "justify_items": null,
            "left": null,
            "margin": null,
            "max_height": null,
            "max_width": null,
            "min_height": null,
            "min_width": null,
            "object_fit": null,
            "object_position": null,
            "order": null,
            "overflow": null,
            "overflow_x": null,
            "overflow_y": null,
            "padding": null,
            "right": null,
            "top": null,
            "visibility": null,
            "width": "100%"
          }
        },
        "9c9d07ad91c24b7a8fd8494e984a1099": {
          "model_module": "@jupyter-widgets/base",
          "model_name": "LayoutModel",
          "model_module_version": "1.2.0",
          "state": {
            "_model_module": "@jupyter-widgets/base",
            "_model_module_version": "1.2.0",
            "_model_name": "LayoutModel",
            "_view_count": null,
            "_view_module": "@jupyter-widgets/base",
            "_view_module_version": "1.2.0",
            "_view_name": "LayoutView",
            "align_content": null,
            "align_items": null,
            "align_self": null,
            "border": null,
            "bottom": null,
            "display": null,
            "flex": null,
            "flex_flow": null,
            "grid_area": null,
            "grid_auto_columns": null,
            "grid_auto_flow": null,
            "grid_auto_rows": null,
            "grid_column": null,
            "grid_gap": null,
            "grid_row": null,
            "grid_template_areas": null,
            "grid_template_columns": null,
            "grid_template_rows": null,
            "height": null,
            "justify_content": null,
            "justify_items": null,
            "left": null,
            "margin": null,
            "max_height": null,
            "max_width": null,
            "min_height": null,
            "min_width": null,
            "object_fit": null,
            "object_position": null,
            "order": null,
            "overflow": null,
            "overflow_x": null,
            "overflow_y": null,
            "padding": null,
            "right": null,
            "top": null,
            "visibility": null,
            "width": null
          }
        },
        "0d934a44a4d44e859823732c921fda2d": {
          "model_module": "@jupyter-widgets/controls",
          "model_name": "DescriptionStyleModel",
          "model_module_version": "1.5.0",
          "state": {
            "_model_module": "@jupyter-widgets/controls",
            "_model_module_version": "1.5.0",
            "_model_name": "DescriptionStyleModel",
            "_view_count": null,
            "_view_module": "@jupyter-widgets/base",
            "_view_module_version": "1.2.0",
            "_view_name": "StyleView",
            "description_width": ""
          }
        },
        "09dea7b6822548389f46b93311674ef5": {
          "model_module": "@jupyter-widgets/base",
          "model_name": "LayoutModel",
          "model_module_version": "1.2.0",
          "state": {
            "_model_module": "@jupyter-widgets/base",
            "_model_module_version": "1.2.0",
            "_model_name": "LayoutModel",
            "_view_count": null,
            "_view_module": "@jupyter-widgets/base",
            "_view_module_version": "1.2.0",
            "_view_name": "LayoutView",
            "align_content": null,
            "align_items": null,
            "align_self": null,
            "border": null,
            "bottom": null,
            "display": null,
            "flex": "2",
            "flex_flow": null,
            "grid_area": null,
            "grid_auto_columns": null,
            "grid_auto_flow": null,
            "grid_auto_rows": null,
            "grid_column": null,
            "grid_gap": null,
            "grid_row": null,
            "grid_template_areas": null,
            "grid_template_columns": null,
            "grid_template_rows": null,
            "height": null,
            "justify_content": null,
            "justify_items": null,
            "left": null,
            "margin": null,
            "max_height": null,
            "max_width": null,
            "min_height": null,
            "min_width": null,
            "object_fit": null,
            "object_position": null,
            "order": null,
            "overflow": null,
            "overflow_x": null,
            "overflow_y": null,
            "padding": null,
            "right": null,
            "top": null,
            "visibility": null,
            "width": null
          }
        },
        "8a68b473501b4d7691d55ccb323c5846": {
          "model_module": "@jupyter-widgets/controls",
          "model_name": "ProgressStyleModel",
          "model_module_version": "1.5.0",
          "state": {
            "_model_module": "@jupyter-widgets/controls",
            "_model_module_version": "1.5.0",
            "_model_name": "ProgressStyleModel",
            "_view_count": null,
            "_view_module": "@jupyter-widgets/base",
            "_view_module_version": "1.2.0",
            "_view_name": "StyleView",
            "bar_color": null,
            "description_width": ""
          }
        },
        "4ea0872b10d34d318179306072d09e94": {
          "model_module": "@jupyter-widgets/base",
          "model_name": "LayoutModel",
          "model_module_version": "1.2.0",
          "state": {
            "_model_module": "@jupyter-widgets/base",
            "_model_module_version": "1.2.0",
            "_model_name": "LayoutModel",
            "_view_count": null,
            "_view_module": "@jupyter-widgets/base",
            "_view_module_version": "1.2.0",
            "_view_name": "LayoutView",
            "align_content": null,
            "align_items": null,
            "align_self": null,
            "border": null,
            "bottom": null,
            "display": null,
            "flex": null,
            "flex_flow": null,
            "grid_area": null,
            "grid_auto_columns": null,
            "grid_auto_flow": null,
            "grid_auto_rows": null,
            "grid_column": null,
            "grid_gap": null,
            "grid_row": null,
            "grid_template_areas": null,
            "grid_template_columns": null,
            "grid_template_rows": null,
            "height": null,
            "justify_content": null,
            "justify_items": null,
            "left": null,
            "margin": null,
            "max_height": null,
            "max_width": null,
            "min_height": null,
            "min_width": null,
            "object_fit": null,
            "object_position": null,
            "order": null,
            "overflow": null,
            "overflow_x": null,
            "overflow_y": null,
            "padding": null,
            "right": null,
            "top": null,
            "visibility": null,
            "width": null
          }
        },
        "47a1397a70de4146b9a2534642282c6c": {
          "model_module": "@jupyter-widgets/controls",
          "model_name": "DescriptionStyleModel",
          "model_module_version": "1.5.0",
          "state": {
            "_model_module": "@jupyter-widgets/controls",
            "_model_module_version": "1.5.0",
            "_model_name": "DescriptionStyleModel",
            "_view_count": null,
            "_view_module": "@jupyter-widgets/base",
            "_view_module_version": "1.2.0",
            "_view_name": "StyleView",
            "description_width": ""
          }
        }
      }
    },
    "gpuClass": "standard"
  },
  "cells": [
    {
      "cell_type": "markdown",
      "source": [
        "# **Importing necessary libraries**"
      ],
      "metadata": {
        "id": "91Ybk7nZ8VbF"
      }
    },
    {
      "cell_type": "code",
      "source": [
        "import tensorflow as tf\n",
        "\n",
        "import numpy as np\n",
        "import os\n",
        "import time"
      ],
      "metadata": {
        "id": "JpxD8bZ96SZt"
      },
      "execution_count": 1,
      "outputs": []
    },
    {
      "cell_type": "code",
      "source": [
        "# Reading the final_text\n",
        "file_path = '/content/drive/MyDrive/Freelance project/AI_story_teller/final_text.txt' \n",
        "with open(file_path) as f:\n",
        "  text = f.read()"
      ],
      "metadata": {
        "id": "-nBItC_16Si1"
      },
      "execution_count": 5,
      "outputs": []
    },
    {
      "cell_type": "code",
      "source": [
        "print('file contains total {} words'.format(len(text)))"
      ],
      "metadata": {
        "colab": {
          "base_uri": "https://localhost:8080/"
        },
        "id": "5G6x8KEo6Smj",
        "outputId": "c9649ff2-fdf1-439e-c988-a26d09c130c2"
      },
      "execution_count": 6,
      "outputs": [
        {
          "output_type": "stream",
          "name": "stdout",
          "text": [
            "file contains total 28301028 words\n"
          ]
        }
      ]
    },
    {
      "cell_type": "code",
      "source": [
        "type(text)"
      ],
      "metadata": {
        "id": "6FkVH0ecHQgG",
        "outputId": "4be35975-01d9-4863-8a80-7afcc653a4ed",
        "colab": {
          "base_uri": "https://localhost:8080/"
        }
      },
      "execution_count": 7,
      "outputs": [
        {
          "output_type": "execute_result",
          "data": {
            "text/plain": [
              "str"
            ]
          },
          "metadata": {},
          "execution_count": 7
        }
      ]
    },
    {
      "cell_type": "code",
      "source": [
        "text = text.replace('\\n', '')\n",
        "text[:1000]"
      ],
      "metadata": {
        "id": "7CCqt6aPHPag",
        "outputId": "446982df-b9db-4286-b804-8843819058ba",
        "colab": {
          "base_uri": "https://localhost:8080/",
          "height": 200
        }
      },
      "execution_count": 8,
      "outputs": [
        {
          "output_type": "execute_result",
          "data": {
            "text/plain": [
              "\"the demon warrior 's light by r.g. richards smashwords edition * * * * * published by : r.g. richards on smashwords the demon warrior 's light copyright © 2013 by r.g. richards thank you for downloading this ebook .  you are welcome to share it with friends .  this book may not be copied or reproduced without permission of the author .  your support and respect for this author 's work is appreciated .  this is a work of fiction .  any resemblance to people living or dead is coincidental and unintended .  this is a production of the author 's imagination .  ***** the demon warrior 's light ***** chapter 1 : shock death is not an ending .  it is the beginning to something new , challenging , and exquisite .  what will you become after death ?  on ebara , the planet of the dead , death takes many forms : spirits or ghosts that soar in the skies , half-dead spirit and flesh eaters called ghouls , and returned souls -- the dead raised by necromancy who transform from spirit to flesh at will\""
            ],
            "application/vnd.google.colaboratory.intrinsic+json": {
              "type": "string"
            }
          },
          "metadata": {},
          "execution_count": 8
        }
      ]
    },
    {
      "cell_type": "markdown",
      "source": [
        "## **Total unique words in the text.**"
      ],
      "metadata": {
        "id": "txMzO3vBEIIq"
      }
    },
    {
      "cell_type": "code",
      "source": [
        "# The unique characters in the file\n",
        "vocab = sorted(set(text))\n",
        "print(f'{len(vocab)} unique characters')\n",
        "vocab[:20] #printing 20 unique characters, we are not deleting the digits, and special  characters to have a stanterd output."
      ],
      "metadata": {
        "colab": {
          "base_uri": "https://localhost:8080/"
        },
        "id": "IN-moVbN6Sp_",
        "outputId": "06f846d2-2762-4357-8273-20596069b3ad"
      },
      "execution_count": 9,
      "outputs": [
        {
          "output_type": "stream",
          "name": "stdout",
          "text": [
            "115 unique characters\n"
          ]
        },
        {
          "output_type": "execute_result",
          "data": {
            "text/plain": [
              "[' ',\n",
              " '!',\n",
              " '#',\n",
              " '$',\n",
              " '%',\n",
              " '&',\n",
              " \"'\",\n",
              " '*',\n",
              " '+',\n",
              " ',',\n",
              " '-',\n",
              " '.',\n",
              " '/',\n",
              " '0',\n",
              " '1',\n",
              " '2',\n",
              " '3',\n",
              " '4',\n",
              " '5',\n",
              " '6']"
            ]
          },
          "metadata": {},
          "execution_count": 9
        }
      ]
    },
    {
      "cell_type": "markdown",
      "source": [
        "## **Character to integer mapping**"
      ],
      "metadata": {
        "id": "Qsx13CLKFhwC"
      }
    },
    {
      "cell_type": "code",
      "source": [
        "char2idx =  {u:i for i, u in enumerate(vocab)} # Giving an unique number for each unique characters.\n",
        "idx2char = np.array(vocab) # for decoding while generating output.\n",
        "print(idx2char)\n",
        "\n",
        "text_as_int = np.array([char2idx[c] for c in text]) # Converting the whole text into integer value"
      ],
      "metadata": {
        "colab": {
          "base_uri": "https://localhost:8080/"
        },
        "id": "cx2Mg5HU6StW",
        "outputId": "3d52ff4f-e2eb-489f-a008-cebd8daceab8"
      },
      "execution_count": 10,
      "outputs": [
        {
          "output_type": "stream",
          "name": "stdout",
          "text": [
            "[' ' '!' '#' '$' '%' '&' \"'\" '*' '+' ',' '-' '.' '/' '0' '1' '2' '3' '4'\n",
            " '5' '6' '7' '8' '9' ':' ';' '<' '=' '>' '?' '@' '\\\\' ']' '^' '_' '`' 'a'\n",
            " 'b' 'c' 'd' 'e' 'f' 'g' 'h' 'i' 'j' 'k' 'l' 'm' 'n' 'o' 'p' 'q' 'r' 's'\n",
            " 't' 'u' 'v' 'w' 'x' 'y' 'z' '|' '~' '\\xa0' '¡' '§' '¨' '©' '±' '´' '¿'\n",
            " 'Á' 'Â' 'Ç' 'É' 'Ü' 'à' 'á' 'â' 'ã' 'ä' 'ç' 'è' 'é' 'ê' 'ë' 'í' 'î' 'ï'\n",
            " 'ñ' 'ò' 'ó' 'ô' 'õ' 'ö' 'ú' 'ü' 'ā' 'œ' 'ū' 'Ω' 'Х' 'ݹ' '‖' '’' '‡' '•'\n",
            " '″' '←' '↑' '→' '↓' '−' '▪' '♥']\n"
          ]
        }
      ]
    },
    {
      "cell_type": "markdown",
      "source": [
        "## **Text to interger sample**"
      ],
      "metadata": {
        "id": "u55Qhj50KNms"
      }
    },
    {
      "cell_type": "code",
      "source": [
        "print(text[100:110], '----(Char to int) Converted into------', text_as_int[100:110])"
      ],
      "metadata": {
        "id": "7c6pb7agJ_sz",
        "outputId": "658d9030-2d68-41bf-aa57-86744b743a85",
        "colab": {
          "base_uri": "https://localhost:8080/"
        }
      },
      "execution_count": 11,
      "outputs": [
        {
          "output_type": "stream",
          "name": "stdout",
          "text": [
            "s on smash ----(Char to int) Converted into------ [53  0 49 48  0 53 47 35 53 42]\n"
          ]
        }
      ]
    },
    {
      "cell_type": "markdown",
      "source": [
        "## **Prepare the Dataset**"
      ],
      "metadata": {
        "id": "efmrXZCWL2K4"
      }
    },
    {
      "cell_type": "markdown",
      "source": [
        "For creating our training batches we are dividing the whole text into a sequence length of 100."
      ],
      "metadata": {
        "id": "ey9ZPBm1MB5O"
      }
    },
    {
      "cell_type": "code",
      "source": [
        "#for maximum \n",
        "seq_length = 100\n",
        "examples_per_epochs = len(text)// seq_length\n",
        "\n",
        "#Creating traing examples\n",
        "#Converting the text_as_int into tensorflow dataset\n",
        "\n",
        "char_dataset = tf.data.Dataset.from_tensor_slices(text_as_int)\n",
        "for i in char_dataset.take(10):\n",
        "  print(idx2char[i])"
      ],
      "metadata": {
        "id": "8C1m2w1xJ_wR",
        "outputId": "66e2339f-3324-4c37-eb9b-34b4dd0d1bb3",
        "colab": {
          "base_uri": "https://localhost:8080/"
        }
      },
      "execution_count": 12,
      "outputs": [
        {
          "output_type": "stream",
          "name": "stdout",
          "text": [
            "t\n",
            "h\n",
            "e\n",
            " \n",
            "d\n",
            "e\n",
            "m\n",
            "o\n",
            "n\n",
            " \n"
          ]
        }
      ]
    },
    {
      "cell_type": "markdown",
      "source": [
        "## **Prepare Batch**"
      ],
      "metadata": {
        "id": "jfXst7PlQNfi"
      }
    },
    {
      "cell_type": "code",
      "source": [
        "sequences = char_dataset.batch(seq_length+1, drop_remainder=True) # Deviding the whole text into sequence length of 100\n",
        "\n",
        "for sen in sequences.take(10):\n",
        "  print(''.join(idx2char[sen]))\n",
        "  print(\"-\" * 60)\n"
      ],
      "metadata": {
        "id": "Vpbt_12VJ_yx",
        "outputId": "fb4bc56e-7b26-476e-ded7-d78c04ce8871",
        "colab": {
          "base_uri": "https://localhost:8080/"
        }
      },
      "execution_count": 13,
      "outputs": [
        {
          "output_type": "stream",
          "name": "stdout",
          "text": [
            "the demon warrior 's light by r.g. richards smashwords edition * * * * * published by : r.g. richards\n",
            "------------------------------------------------------------\n",
            " on smashwords the demon warrior 's light copyright © 2013 by r.g. richards thank you for downloading\n",
            "------------------------------------------------------------\n",
            " this ebook .  you are welcome to share it with friends .  this book may not be copied or reproduced \n",
            "------------------------------------------------------------\n",
            "without permission of the author .  your support and respect for this author 's work is appreciated .\n",
            "------------------------------------------------------------\n",
            "  this is a work of fiction .  any resemblance to people living or dead is coincidental and unintende\n",
            "------------------------------------------------------------\n",
            "d .  this is a production of the author 's imagination .  ***** the demon warrior 's light ***** chap\n",
            "------------------------------------------------------------\n",
            "ter 1 : shock death is not an ending .  it is the beginning to something new , challenging , and exqu\n",
            "------------------------------------------------------------\n",
            "isite .  what will you become after death ?  on ebara , the planet of the dead , death takes many for\n",
            "------------------------------------------------------------\n",
            "ms : spirits or ghosts that soar in the skies , half-dead spirit and flesh eaters called ghouls , and\n",
            "------------------------------------------------------------\n",
            " returned souls -- the dead raised by necromancy who transform from spirit to flesh at will , they se\n",
            "------------------------------------------------------------\n"
          ]
        }
      ]
    },
    {
      "cell_type": "markdown",
      "source": [
        ""
      ],
      "metadata": {
        "id": "0QdRklFdQue9"
      }
    },
    {
      "cell_type": "code",
      "source": [
        ""
      ],
      "metadata": {
        "id": "IuF1oHFIJ_1L"
      },
      "execution_count": 34,
      "outputs": []
    },
    {
      "cell_type": "code",
      "source": [
        "def split_input_target(chunk):\n",
        "  "
      ],
      "metadata": {
        "id": "oeIGvvlsJ_3n"
      },
      "execution_count": null,
      "outputs": []
    },
    {
      "cell_type": "code",
      "source": [
        "from aitextgen.TokenDataset import TokenDataset\n",
        "from aitextgen.tokenizers import train_tokenizer\n",
        "from aitextgen.utils import GPT2ConfigCPU\n",
        "from aitextgen import aitextgen\n",
        "\n",
        "# The name of the downloaded Shakespeare text for training\n",
        "file_name = \"/content/drive/MyDrive/Freelance project/AI_story_teller/final_text.txt\"\n",
        "\n",
        "# Train a custom BPE Tokenizer on the downloaded text\n",
        "# This will save one file: `aitextgen.tokenizer.json`, which contains the\n",
        "# information needed to rebuild the tokenizer.\n",
        "train_tokenizer(file_name)\n",
        "tokenizer_file = \"aitextgen.tokenizer.json\"\n",
        "\n",
        "# GPT2ConfigCPU is a mini variant of GPT-2 optimized for CPU-training\n",
        "# e.g. the # of input tokens here is 64 vs. 1024 for base GPT-2.\n",
        "config = GPT2ConfigCPU()\n",
        "\n",
        "# Instantiate aitextgen using the created tokenizer and config\n",
        "ai = aitextgen(tokenizer_file=tokenizer_file, config=config)\n",
        "\n",
        "# You can build datasets for training by creating TokenDatasets,\n",
        "# which automatically processes the dataset with the appropriate size.\n",
        "data = TokenDataset(file_name, tokenizer_file=tokenizer_file, block_size=64)\n",
        "\n"
      ],
      "metadata": {
        "colab": {
          "base_uri": "https://localhost:8080/",
          "height": 49,
          "referenced_widgets": [
            "891f5422f1f9426fb6ead60db55de9e5",
            "372f36c7f43d4a78928277ad78ea5577",
            "aab82c3585df4eb3b6b0899fa88a381c",
            "5f5cd8a4600f4652b38d0284b8fc6084",
            "1aafc9e6e1d647edb02e56f82b55cb53",
            "a5fd0c40077343b8a6b7baea49df50f1",
            "52c99a53d7764019b972ce217e9c91b0",
            "eabaa5a234f04a189a22205167ec7bfd",
            "14f0362e8be241a1a642ab945dc2aec0",
            "bfedb2d186a4446280639a61c4a929ec",
            "67610803bc1c4e10a4f30ca69996d3fd"
          ]
        },
        "id": "9fC52WyJzDMx",
        "outputId": "5afeaf2c-1807-4a60-9ab4-87e4b92a452a"
      },
      "execution_count": null,
      "outputs": [
        {
          "output_type": "display_data",
          "data": {
            "text/plain": [
              "  0%|          | 0/1 [00:00<?, ?it/s]"
            ],
            "application/vnd.jupyter.widget-view+json": {
              "version_major": 2,
              "version_minor": 0,
              "model_id": "891f5422f1f9426fb6ead60db55de9e5"
            }
          },
          "metadata": {}
        }
      ]
    },
    {
      "cell_type": "code",
      "source": [
        "# Train the model! It will save pytorch_model.bin periodically and after completion to the `trained_model` folder.\n",
        "# On a 2020 8-core iMac, this took ~25 minutes to run.\n",
        "ai.train(data, batch_size=8, num_steps=25000, generate_every=5000, save_every=5000)"
      ],
      "metadata": {
        "colab": {
          "base_uri": "https://localhost:8080/",
          "height": 818,
          "referenced_widgets": [
            "2dc5db53631c46c3a6747cfcd82bf7c1",
            "bda37215774d40f9aaabf5e617c4bb97",
            "f18298e0592e4c85b2adca0c4052e678",
            "fc97c867313043c8b9114f439b39d359",
            "a077e0dac53a4d149f078095da76f594",
            "9c9d07ad91c24b7a8fd8494e984a1099",
            "0d934a44a4d44e859823732c921fda2d",
            "09dea7b6822548389f46b93311674ef5",
            "8a68b473501b4d7691d55ccb323c5846",
            "4ea0872b10d34d318179306072d09e94",
            "47a1397a70de4146b9a2534642282c6c"
          ]
        },
        "id": "SzGyTsRPIocW",
        "outputId": "6927f993-0e94-451f-9331-f5c8418c681d"
      },
      "execution_count": null,
      "outputs": [
        {
          "output_type": "stream",
          "name": "stderr",
          "text": [
            "pytorch_model.bin already exists in /trained_model and will be overwritten!\n",
            "/usr/local/lib/python3.7/dist-packages/pytorch_lightning/trainer/connectors/callback_connector.py:152: LightningDeprecationWarning: Setting `Trainer(checkpoint_callback=False)` is deprecated in v1.5 and will be removed in v1.7. Please consider using `Trainer(enable_checkpointing=False)`.\n",
            "  f\"Setting `Trainer(checkpoint_callback={checkpoint_callback})` is deprecated in v1.5 and will \"\n",
            "/usr/local/lib/python3.7/dist-packages/pytorch_lightning/trainer/connectors/callback_connector.py:97: LightningDeprecationWarning: Setting `Trainer(progress_bar_refresh_rate=20)` is deprecated in v1.5 and will be removed in v1.7. Please pass `pytorch_lightning.callbacks.progress.TQDMProgressBar` with `refresh_rate` directly to the Trainer's `callbacks` argument instead. Or, to disable the progress bar pass `enable_progress_bar = False` to the Trainer.\n",
            "  f\"Setting `Trainer(progress_bar_refresh_rate={progress_bar_refresh_rate})` is deprecated in v1.5 and\"\n",
            "/usr/local/lib/python3.7/dist-packages/pytorch_lightning/trainer/connectors/callback_connector.py:172: LightningDeprecationWarning: Setting `Trainer(weights_summary=None)` is deprecated in v1.5 and will be removed in v1.7. Please set `Trainer(enable_model_summary=False)` instead.\n",
            "  \"Setting `Trainer(weights_summary=None)` is deprecated in v1.5 and will be removed\"\n",
            "GPU available: True, used: True\n",
            "TPU available: False, using: 0 TPU cores\n",
            "IPU available: False, using: 0 IPUs\n",
            "HPU available: False, using: 0 HPUs\n",
            "/usr/local/lib/python3.7/dist-packages/pytorch_lightning/trainer/configuration_validator.py:377: LightningDeprecationWarning: The `Callback.on_batch_end` hook was deprecated in v1.6 and will be removed in v1.8. Please use `Callback.on_train_batch_end` instead.\n",
            "  f\"The `Callback.{hook}` hook was deprecated in v1.6 and\"\n",
            "LOCAL_RANK: 0 - CUDA_VISIBLE_DEVICES: [0]\n"
          ]
        },
        {
          "output_type": "display_data",
          "data": {
            "text/plain": [
              "  0%|          | 0/25000 [00:00<?, ?it/s]"
            ],
            "application/vnd.jupyter.widget-view+json": {
              "version_major": 2,
              "version_minor": 0,
              "model_id": "2dc5db53631c46c3a6747cfcd82bf7c1"
            }
          },
          "metadata": {}
        },
        {
          "output_type": "stream",
          "name": "stderr",
          "text": [
            "/usr/local/lib/python3.7/dist-packages/pytorch_lightning/trainer/trainer.py:2282: LightningDeprecationWarning: `trainer.progress_bar_dict` is deprecated in v1.5 and will be removed in v1.7. Use `ProgressBarBase.get_metrics` instead.\n",
            "  \"`trainer.progress_bar_dict` is deprecated in v1.5 and will be removed in v1.7.\"\n"
          ]
        },
        {
          "output_type": "stream",
          "name": "stdout",
          "text": [
            "\u001b[1m5,000 steps reached: saving model to /trained_model\u001b[0m\n",
            "\u001b[1m5,000 steps reached: generating sample texts.\u001b[0m\n",
            "==========\n",
            " with the lessing she didn't feel like he didn't believe. `` i'm cattry. '' `` it's eight. '' `` well, '' said kcessis. '' `` i thought i'm sure why missa. '' ``\n",
            "==========\n",
            "\u001b[1m10,000 steps reached: saving model to /trained_model\u001b[0m\n",
            "\u001b[1m10,000 steps reached: generating sample texts.\u001b[0m\n",
            "==========\n",
            ". `` just ask you. '' the woman looked at the porning. `` that's what you're your later than weak. '' `` you're fightinger. '' `` that's a figure. '' `` you wish your dadden\n",
            "==========\n",
            "\u001b[1m15,000 steps reached: saving model to /trained_model\u001b[0m\n",
            "\u001b[1m15,000 steps reached: generating sample texts.\u001b[0m\n",
            "==========\n",
            "s. '' `` he's one of my business`` he's all right, '' said mrs. simm. `` yeah, '' said mathina, `` you're so bad. '' `` i 'll be on this, i're still trying\n",
            "==========\n",
            "\u001b[1m20,000 steps reached: saving model to /trained_model\u001b[0m\n",
            "\u001b[1m20,000 steps reached: generating sample texts.\u001b[0m\n",
            "==========\n",
            ". '' `` no, what i think they 'll take myself, '' said angiewhat's eyes, `` sorcererickson. i 'll be able to do it, '' `` i don't think we need to go to the way to the\n",
            "==========\n",
            "\u001b[1m25,000 steps reached: saving model to /trained_model\u001b[0m\n",
            "\u001b[1m25,000 steps reached: generating sample texts.\u001b[0m\n",
            "==========\n",
            ". `` she's a bit, '' said the hallways, raised the grip of her eyes as she reached for an unless, and i went to the garage of fire and i said it when he knew the way. i wasn't worry\n",
            "==========\n"
          ]
        }
      ]
    },
    {
      "cell_type": "code",
      "source": [
        "# With your trained model, you can reload the model at any time by\n",
        "# providing the folder containing the pytorch_model.bin model weights + the config, and providing the tokenizer.\n",
        "ai2 = aitextgen(model_folder=\"trained_model\",\n",
        "                tokenizer_file=\"aitextgen.tokenizer.json\")"
      ],
      "metadata": {
        "id": "pT0xWmfzJo6Z"
      },
      "execution_count": null,
      "outputs": []
    },
    {
      "cell_type": "code",
      "source": [
        "ai2.generate(n = 3,\n",
        "            prompt = 'I love Romantic movie',\n",
        "            max_length = 300,\n",
        "            temperature=.5,\n",
        "            do_sample = True,\n",
        "            return_as_list = False,\n",
        "            seed = 42,\n",
        "            \n",
        " )"
      ],
      "metadata": {
        "colab": {
          "base_uri": "https://localhost:8080/"
        },
        "id": "m3Lwb2xRMHJD",
        "outputId": "c62571fc-03a5-4dbb-a379-5b91d6d81cc9"
      },
      "execution_count": null,
      "outputs": [
        {
          "output_type": "stream",
          "name": "stdout",
          "text": [
            "\u001b[1mI love Romantic movie\u001b[0mws. he was getting him a medical certainly in the council. `` i'm not sure i'm not really fine, '' said ryani`` i 'll try to do you know what\n",
            "==========\n",
            "\u001b[1mI love Romantic movie\u001b[0mws he could feel the portal. it was a good time he couldn't read the round, and he wasn't sure what he wanted to do, but he wasn't sure what he was missed by the first time,\n",
            "==========\n",
            "\u001b[1mI love Romantic movie\u001b[0mws. `` i'm not a paramedicity, '' said. `` he's a lot of my father, '' said typo, `` it's fine, '' said torus. `` i'm\n"
          ]
        }
      ]
    },
    {
      "cell_type": "code",
      "source": [
        "# Train the model! It will save pytorch_model.bin periodically and after completion to the `trained_model` folder.\n",
        "# On a 2020 8-core iMac, this took ~25 minutes to run.\n",
        "ai.train(data, batch_size=8, num_steps=50000, generate_every=5000, save_every=5000)\n",
        "\n",
        "# Generate text from it!\n",
        "ai.generate(10, prompt=\"ROMEO:\")\n",
        "\n",
        "# With your trained model, you can reload the model at any time by\n",
        "# providing the folder containing the pytorch_model.bin model weights + the config, and providing the tokenizer.\n",
        "ai2 = aitextgen(model_folder=\"trained_model\",\n",
        "                tokenizer_file=\"aitextgen.tokenizer.json\")\n",
        "\n",
        "ai2.generate(10, prompt=\"ROMEO:\")"
      ],
      "metadata": {
        "id": "HnzsVcJ925AI"
      },
      "execution_count": null,
      "outputs": []
    }
  ]
}